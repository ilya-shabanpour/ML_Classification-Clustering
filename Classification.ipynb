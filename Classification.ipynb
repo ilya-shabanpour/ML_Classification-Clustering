{
 "cells": [
  {
   "cell_type": "code",
   "outputs": [],
   "source": [
    "import pandas as pd\n",
    "import numpy as np\n",
    "from sklearn.preprocessing import StandardScaler, MinMaxScaler\n",
    "import matplotlib.pyplot as plt\n",
    "from sklearn.preprocessing import PolynomialFeatures\n",
    "from sklearn.ensemble import RandomForestClassifier\n",
    "from sklearn.metrics import accuracy_score\n",
    "from sklearn.model_selection import train_test_split\n",
    "from sklearn.naive_bayes import GaussianNB\n",
    "from sklearn.ensemble import AdaBoostClassifier"
   ],
   "metadata": {
    "collapsed": false,
    "ExecuteTime": {
     "end_time": "2024-06-28T19:58:35.345050400Z",
     "start_time": "2024-06-28T19:58:35.305155800Z"
    }
   },
   "id": "24591c9fbb96eac9",
   "execution_count": 830
  },
  {
   "cell_type": "code",
   "outputs": [
    {
     "data": {
      "text/plain": "     label  ex_label  Feature 1  Feature 2  Feature 3  Feature 4  Feature 5  \\\n0        1         1    0.72694     1.4742    0.32396    0.98535    1.00000   \n1        1         2    0.74173     1.5257    0.36116    0.98152    0.99825   \n2        1         3    0.76722     1.5725    0.38998    0.97755    1.00000   \n3        1         4    0.73797     1.4597    0.35376    0.97566    1.00000   \n4        1         5    0.82301     1.7707    0.44462    0.97698    1.00000   \n..     ...       ...        ...        ...        ...        ...        ...   \n335     36         6    0.37522     1.1417    0.81725    0.68511    0.58772   \n336     36         7    0.28064     1.0849    0.75319    0.72152    0.71404   \n337     36         8    0.35344     1.0329    0.78147    0.70737    0.61579   \n338     36         9    0.59988     1.1427    0.71532    0.66101    0.47544   \n339     36        10    0.47195     1.0901    0.85409    0.53598    0.39649   \n\n     Feature 6  Feature 7  Feature 8  ...  feature_340  feature_341  \\\n0     0.835920   0.004657   0.003947  ...     0.016479     0.019653   \n1     0.798670   0.005242   0.005002  ...     0.016418     0.018005   \n2     0.808120   0.007457   0.010121  ...     0.015076     0.016052   \n3     0.816970   0.006877   0.008607  ...     0.013062     0.014160   \n4     0.754930   0.007428   0.010042  ...     0.012756     0.014343   \n..         ...        ...        ...  ...          ...          ...   \n335   0.125230   0.091860   1.535800  ...     0.015808     0.015320   \n336   0.136860   0.078996   1.135800  ...     0.017944     0.017822   \n337   0.135030   0.089763   1.466400  ...     0.013672     0.013672   \n338   0.157470   0.113370   2.339400  ...     0.018127     0.017456   \n339   0.078376   0.132270   3.184000  ...     0.014221     0.018127   \n\n     feature_342  feature_343  feature_344  feature_345  feature_346  \\\n0       0.013855     0.016052     0.016052     0.020081     0.022217   \n1       0.012390     0.013550     0.016174     0.019592     0.023743   \n2       0.013000     0.013184     0.016052     0.018860     0.021118   \n3       0.011108     0.012878     0.016846     0.018372     0.022339   \n4       0.010986     0.012146     0.014648     0.020752     0.020630   \n..           ...          ...          ...          ...          ...   \n335     0.009705     0.010132     0.014099     0.017395     0.022400   \n336     0.010803     0.012817     0.012512     0.017090     0.023315   \n337     0.011169     0.012878     0.017944     0.019104     0.023743   \n338     0.010986     0.012085     0.015381     0.019531     0.023315   \n339     0.011475     0.013000     0.013184     0.017334     0.023987   \n\n     feature_347  feature_348  feature_349  \n0       0.018494     0.052673     0.449768  \n1       0.018555     0.053467     0.450134  \n2       0.022888     0.053162     0.488647  \n3       0.021118     0.062439     0.496399  \n4       0.025146     0.060669     0.510986  \n..           ...          ...          ...  \n335     0.024780     0.053101     0.449707  \n336     0.022278     0.056335     0.450928  \n337     0.025208     0.054565     0.495605  \n338     0.020386     0.053772     0.440369  \n339     0.024902     0.056213     0.458313  \n\n[340 rows x 366 columns]",
      "text/html": "<div>\n<style scoped>\n    .dataframe tbody tr th:only-of-type {\n        vertical-align: middle;\n    }\n\n    .dataframe tbody tr th {\n        vertical-align: top;\n    }\n\n    .dataframe thead th {\n        text-align: right;\n    }\n</style>\n<table border=\"1\" class=\"dataframe\">\n  <thead>\n    <tr style=\"text-align: right;\">\n      <th></th>\n      <th>label</th>\n      <th>ex_label</th>\n      <th>Feature 1</th>\n      <th>Feature 2</th>\n      <th>Feature 3</th>\n      <th>Feature 4</th>\n      <th>Feature 5</th>\n      <th>Feature 6</th>\n      <th>Feature 7</th>\n      <th>Feature 8</th>\n      <th>...</th>\n      <th>feature_340</th>\n      <th>feature_341</th>\n      <th>feature_342</th>\n      <th>feature_343</th>\n      <th>feature_344</th>\n      <th>feature_345</th>\n      <th>feature_346</th>\n      <th>feature_347</th>\n      <th>feature_348</th>\n      <th>feature_349</th>\n    </tr>\n  </thead>\n  <tbody>\n    <tr>\n      <th>0</th>\n      <td>1</td>\n      <td>1</td>\n      <td>0.72694</td>\n      <td>1.4742</td>\n      <td>0.32396</td>\n      <td>0.98535</td>\n      <td>1.00000</td>\n      <td>0.835920</td>\n      <td>0.004657</td>\n      <td>0.003947</td>\n      <td>...</td>\n      <td>0.016479</td>\n      <td>0.019653</td>\n      <td>0.013855</td>\n      <td>0.016052</td>\n      <td>0.016052</td>\n      <td>0.020081</td>\n      <td>0.022217</td>\n      <td>0.018494</td>\n      <td>0.052673</td>\n      <td>0.449768</td>\n    </tr>\n    <tr>\n      <th>1</th>\n      <td>1</td>\n      <td>2</td>\n      <td>0.74173</td>\n      <td>1.5257</td>\n      <td>0.36116</td>\n      <td>0.98152</td>\n      <td>0.99825</td>\n      <td>0.798670</td>\n      <td>0.005242</td>\n      <td>0.005002</td>\n      <td>...</td>\n      <td>0.016418</td>\n      <td>0.018005</td>\n      <td>0.012390</td>\n      <td>0.013550</td>\n      <td>0.016174</td>\n      <td>0.019592</td>\n      <td>0.023743</td>\n      <td>0.018555</td>\n      <td>0.053467</td>\n      <td>0.450134</td>\n    </tr>\n    <tr>\n      <th>2</th>\n      <td>1</td>\n      <td>3</td>\n      <td>0.76722</td>\n      <td>1.5725</td>\n      <td>0.38998</td>\n      <td>0.97755</td>\n      <td>1.00000</td>\n      <td>0.808120</td>\n      <td>0.007457</td>\n      <td>0.010121</td>\n      <td>...</td>\n      <td>0.015076</td>\n      <td>0.016052</td>\n      <td>0.013000</td>\n      <td>0.013184</td>\n      <td>0.016052</td>\n      <td>0.018860</td>\n      <td>0.021118</td>\n      <td>0.022888</td>\n      <td>0.053162</td>\n      <td>0.488647</td>\n    </tr>\n    <tr>\n      <th>3</th>\n      <td>1</td>\n      <td>4</td>\n      <td>0.73797</td>\n      <td>1.4597</td>\n      <td>0.35376</td>\n      <td>0.97566</td>\n      <td>1.00000</td>\n      <td>0.816970</td>\n      <td>0.006877</td>\n      <td>0.008607</td>\n      <td>...</td>\n      <td>0.013062</td>\n      <td>0.014160</td>\n      <td>0.011108</td>\n      <td>0.012878</td>\n      <td>0.016846</td>\n      <td>0.018372</td>\n      <td>0.022339</td>\n      <td>0.021118</td>\n      <td>0.062439</td>\n      <td>0.496399</td>\n    </tr>\n    <tr>\n      <th>4</th>\n      <td>1</td>\n      <td>5</td>\n      <td>0.82301</td>\n      <td>1.7707</td>\n      <td>0.44462</td>\n      <td>0.97698</td>\n      <td>1.00000</td>\n      <td>0.754930</td>\n      <td>0.007428</td>\n      <td>0.010042</td>\n      <td>...</td>\n      <td>0.012756</td>\n      <td>0.014343</td>\n      <td>0.010986</td>\n      <td>0.012146</td>\n      <td>0.014648</td>\n      <td>0.020752</td>\n      <td>0.020630</td>\n      <td>0.025146</td>\n      <td>0.060669</td>\n      <td>0.510986</td>\n    </tr>\n    <tr>\n      <th>...</th>\n      <td>...</td>\n      <td>...</td>\n      <td>...</td>\n      <td>...</td>\n      <td>...</td>\n      <td>...</td>\n      <td>...</td>\n      <td>...</td>\n      <td>...</td>\n      <td>...</td>\n      <td>...</td>\n      <td>...</td>\n      <td>...</td>\n      <td>...</td>\n      <td>...</td>\n      <td>...</td>\n      <td>...</td>\n      <td>...</td>\n      <td>...</td>\n      <td>...</td>\n      <td>...</td>\n    </tr>\n    <tr>\n      <th>335</th>\n      <td>36</td>\n      <td>6</td>\n      <td>0.37522</td>\n      <td>1.1417</td>\n      <td>0.81725</td>\n      <td>0.68511</td>\n      <td>0.58772</td>\n      <td>0.125230</td>\n      <td>0.091860</td>\n      <td>1.535800</td>\n      <td>...</td>\n      <td>0.015808</td>\n      <td>0.015320</td>\n      <td>0.009705</td>\n      <td>0.010132</td>\n      <td>0.014099</td>\n      <td>0.017395</td>\n      <td>0.022400</td>\n      <td>0.024780</td>\n      <td>0.053101</td>\n      <td>0.449707</td>\n    </tr>\n    <tr>\n      <th>336</th>\n      <td>36</td>\n      <td>7</td>\n      <td>0.28064</td>\n      <td>1.0849</td>\n      <td>0.75319</td>\n      <td>0.72152</td>\n      <td>0.71404</td>\n      <td>0.136860</td>\n      <td>0.078996</td>\n      <td>1.135800</td>\n      <td>...</td>\n      <td>0.017944</td>\n      <td>0.017822</td>\n      <td>0.010803</td>\n      <td>0.012817</td>\n      <td>0.012512</td>\n      <td>0.017090</td>\n      <td>0.023315</td>\n      <td>0.022278</td>\n      <td>0.056335</td>\n      <td>0.450928</td>\n    </tr>\n    <tr>\n      <th>337</th>\n      <td>36</td>\n      <td>8</td>\n      <td>0.35344</td>\n      <td>1.0329</td>\n      <td>0.78147</td>\n      <td>0.70737</td>\n      <td>0.61579</td>\n      <td>0.135030</td>\n      <td>0.089763</td>\n      <td>1.466400</td>\n      <td>...</td>\n      <td>0.013672</td>\n      <td>0.013672</td>\n      <td>0.011169</td>\n      <td>0.012878</td>\n      <td>0.017944</td>\n      <td>0.019104</td>\n      <td>0.023743</td>\n      <td>0.025208</td>\n      <td>0.054565</td>\n      <td>0.495605</td>\n    </tr>\n    <tr>\n      <th>338</th>\n      <td>36</td>\n      <td>9</td>\n      <td>0.59988</td>\n      <td>1.1427</td>\n      <td>0.71532</td>\n      <td>0.66101</td>\n      <td>0.47544</td>\n      <td>0.157470</td>\n      <td>0.113370</td>\n      <td>2.339400</td>\n      <td>...</td>\n      <td>0.018127</td>\n      <td>0.017456</td>\n      <td>0.010986</td>\n      <td>0.012085</td>\n      <td>0.015381</td>\n      <td>0.019531</td>\n      <td>0.023315</td>\n      <td>0.020386</td>\n      <td>0.053772</td>\n      <td>0.440369</td>\n    </tr>\n    <tr>\n      <th>339</th>\n      <td>36</td>\n      <td>10</td>\n      <td>0.47195</td>\n      <td>1.0901</td>\n      <td>0.85409</td>\n      <td>0.53598</td>\n      <td>0.39649</td>\n      <td>0.078376</td>\n      <td>0.132270</td>\n      <td>3.184000</td>\n      <td>...</td>\n      <td>0.014221</td>\n      <td>0.018127</td>\n      <td>0.011475</td>\n      <td>0.013000</td>\n      <td>0.013184</td>\n      <td>0.017334</td>\n      <td>0.023987</td>\n      <td>0.024902</td>\n      <td>0.056213</td>\n      <td>0.458313</td>\n    </tr>\n  </tbody>\n</table>\n<p>340 rows × 366 columns</p>\n</div>"
     },
     "execution_count": 831,
     "metadata": {},
     "output_type": "execute_result"
    }
   ],
   "source": [
    "header = []\n",
    "header.append(\"label\")\n",
    "header.append(\"ex_label\")\n",
    "\n",
    "for i in range(14):\n",
    "    header.append(\"Feature \" + str(i+1))\n",
    "    \n",
    "df1 = pd.read_csv(\"leaves.csv\", header=None)\n",
    "df1.columns = header\n",
    "\n",
    "df2 = pd.read_csv('leaf_hog_lbp_features.csv')\n",
    "\n",
    "df = pd.merge(df1, df2, on=['label', 'ex_label'])\n",
    "df"
   ],
   "metadata": {
    "collapsed": false,
    "ExecuteTime": {
     "end_time": "2024-06-28T19:58:35.411081700Z",
     "start_time": "2024-06-28T19:58:35.321173Z"
    }
   },
   "id": "9ac826cf5c1eed9a",
   "execution_count": 831
  },
  {
   "cell_type": "code",
   "outputs": [],
   "source": [
    "y = df.pop(\"label\")\n",
    "y = np.array(y)\n",
    "class_samples = df.pop(\"ex_label\")\n",
    "\n",
    "unique_labels = np.unique(y)\n",
    "\n",
    "label_mapping = {old_label: new_label for new_label, old_label in enumerate(unique_labels)}\n",
    "y = np.vectorize(label_mapping.get)(y)\n",
    "\n",
    "x = df\n",
    "x_train, x_test, y_train, y_test = train_test_split(x, y, shuffle=True, test_size=0.1)\n"
   ],
   "metadata": {
    "collapsed": false,
    "ExecuteTime": {
     "end_time": "2024-06-28T19:58:35.442540800Z",
     "start_time": "2024-06-28T19:58:35.384542100Z"
    }
   },
   "id": "9327c2682780d709",
   "execution_count": 832
  },
  {
   "cell_type": "code",
   "outputs": [],
   "source": [
    "scaler = StandardScaler()\n",
    "x_train = scaler.fit_transform(x_train)\n",
    "x_test = scaler.transform(x_test)\n",
    "\n",
    "# pf = PolynomialFeatures(degree=2)\n",
    "# x_train_poly = pf.fit_transform(x_train)\n",
    "# x_test_poly = pf.transform(x_test)\n",
    "# \n",
    "# x_train_poly = scaler.fit_transform(x_train_poly)\n",
    "# x_test_poly = scaler.transform(x_test_poly)"
   ],
   "metadata": {
    "collapsed": false,
    "ExecuteTime": {
     "end_time": "2024-06-28T19:58:35.444596500Z",
     "start_time": "2024-06-28T19:58:35.396891100Z"
    }
   },
   "id": "fc11b01dd3e12458",
   "execution_count": 833
  },
  {
   "cell_type": "markdown",
   "source": [
    "# PCA"
   ],
   "metadata": {
    "collapsed": false
   },
   "id": "c79d6619f4f0c337"
  },
  {
   "cell_type": "code",
   "outputs": [],
   "source": [
    "from sklearn.decomposition import PCA\n",
    "pca = PCA(n_components=0.95)\n",
    "x_train = pca.fit_transform(x_train)\n",
    "x_test = pca.transform(x_test)"
   ],
   "metadata": {
    "collapsed": false,
    "ExecuteTime": {
     "end_time": "2024-06-28T19:58:35.525521900Z",
     "start_time": "2024-06-28T19:58:35.413339900Z"
    }
   },
   "id": "78a975337e423305",
   "execution_count": 834
  },
  {
   "cell_type": "markdown",
   "source": [
    "# LDA"
   ],
   "metadata": {
    "collapsed": false
   },
   "id": "bd2e40f209eccddc"
  },
  {
   "cell_type": "code",
   "outputs": [],
   "source": [
    "from sklearn.discriminant_analysis import LinearDiscriminantAnalysis as LDA\n",
    "lda = LDA()\n",
    "x_train = lda.fit_transform(x_train, y_train)\n",
    "x_test = lda.transform(x_test)"
   ],
   "metadata": {
    "collapsed": false,
    "ExecuteTime": {
     "end_time": "2024-06-28T19:58:35.567253500Z",
     "start_time": "2024-06-28T19:58:35.507639300Z"
    }
   },
   "id": "21e3e6fe41f490c8",
   "execution_count": 835
  },
  {
   "cell_type": "markdown",
   "source": [
    "# KNN"
   ],
   "metadata": {
    "collapsed": false
   },
   "id": "386497133264772a"
  },
  {
   "cell_type": "code",
   "outputs": [
    {
     "name": "stdout",
     "output_type": "stream",
     "text": [
      "Accuracy: 0.9117647058823529\n"
     ]
    }
   ],
   "source": [
    "from sklearn.neighbors import KNeighborsClassifier\n",
    "clf = KNeighborsClassifier(n_neighbors=1, metric='euclidean')\n",
    "clf.fit(x_train, y_train)\n",
    "y_pred = clf.predict(x_test)\n",
    "accuracy = accuracy_score(y_test, y_pred)\n",
    "print(\"Accuracy:\", accuracy)"
   ],
   "metadata": {
    "collapsed": false,
    "ExecuteTime": {
     "end_time": "2024-06-28T19:58:35.575697900Z",
     "start_time": "2024-06-28T19:58:35.542417400Z"
    }
   },
   "id": "60490c3628ef192",
   "execution_count": 836
  },
  {
   "cell_type": "markdown",
   "source": [
    "# NB"
   ],
   "metadata": {
    "collapsed": false
   },
   "id": "13b603a85f7417ff"
  },
  {
   "cell_type": "code",
   "outputs": [
    {
     "name": "stdout",
     "output_type": "stream",
     "text": [
      "Accuracy GNB: 0.8823529411764706\n"
     ]
    }
   ],
   "source": [
    "gnb = GaussianNB()\n",
    "gnb.fit(x_train, y_train)\n",
    "y_pred = gnb.predict(x_test)\n",
    "accuracy = accuracy_score(y_test, y_pred)\n",
    "print(\"Accuracy GNB:\", accuracy)"
   ],
   "metadata": {
    "collapsed": false,
    "ExecuteTime": {
     "end_time": "2024-06-28T19:58:35.577760600Z",
     "start_time": "2024-06-28T19:58:35.556305200Z"
    }
   },
   "id": "6baaa1b9295fbe4b",
   "execution_count": 837
  },
  {
   "cell_type": "markdown",
   "source": [
    "# Random Forest"
   ],
   "metadata": {
    "collapsed": false
   },
   "id": "d0fb083e9e42e2b7"
  },
  {
   "cell_type": "code",
   "outputs": [
    {
     "name": "stdout",
     "output_type": "stream",
     "text": [
      "Accuracy: 0.8529411764705882\n"
     ]
    }
   ],
   "source": [
    "rf = RandomForestClassifier(n_estimators=200, max_depth=20, random_state=0)\n",
    "rf.fit(x_train, y_train)\n",
    "y_pred = rf.predict(x_test)\n",
    "accuracy = accuracy_score(y_test, y_pred)\n",
    "print(\"Accuracy:\", accuracy)"
   ],
   "metadata": {
    "collapsed": false,
    "ExecuteTime": {
     "end_time": "2024-06-28T19:58:36.197011200Z",
     "start_time": "2024-06-28T19:58:35.570436300Z"
    }
   },
   "id": "cf8e108e6922cf80",
   "execution_count": 838
  },
  {
   "cell_type": "markdown",
   "source": [
    "# AdaBoost"
   ],
   "metadata": {
    "collapsed": false
   },
   "id": "8d1f78f4c35d1298"
  },
  {
   "cell_type": "code",
   "outputs": [
    {
     "name": "stdout",
     "output_type": "stream",
     "text": [
      "Accuracy: 0.8823529411764706\n"
     ]
    }
   ],
   "source": [
    "from sklearn.tree import DecisionTreeClassifier\n",
    "base = rf\n",
    "\n",
    "adaBoost = AdaBoostClassifier(estimator=base, n_estimators=200, learning_rate=0.01, random_state=0)\n",
    "adaBoost.fit(x_train, y_train)\n",
    "y_pred = adaBoost.predict(x_test)\n",
    "accuracy = accuracy_score(y_test, y_pred)\n",
    "print(\"Accuracy:\", accuracy)"
   ],
   "metadata": {
    "collapsed": false,
    "ExecuteTime": {
     "end_time": "2024-06-28T19:58:36.800975Z",
     "start_time": "2024-06-28T19:58:36.188349500Z"
    }
   },
   "id": "23ff0f7accba1c5a",
   "execution_count": 839
  },
  {
   "cell_type": "markdown",
   "source": [
    "# SVM"
   ],
   "metadata": {
    "collapsed": false
   },
   "id": "b8c78ab63f040c51"
  },
  {
   "cell_type": "code",
   "outputs": [
    {
     "name": "stdout",
     "output_type": "stream",
     "text": [
      "Accuracy: 0.8823529411764706\n"
     ]
    }
   ],
   "source": [
    "from sklearn.svm import SVC\n",
    "\n",
    "svc = SVC(kernel='rbf', random_state=0)\n",
    "svc.fit(x_train, y_train)\n",
    "y_pred = svc.predict(x_test)\n",
    "accuracy = accuracy_score(y_test, y_pred)\n",
    "print(\"Accuracy:\", accuracy)"
   ],
   "metadata": {
    "collapsed": false,
    "ExecuteTime": {
     "end_time": "2024-06-28T19:58:36.830753200Z",
     "start_time": "2024-06-28T19:58:36.800975Z"
    }
   },
   "id": "fdec0bb363c29d47",
   "execution_count": 840
  },
  {
   "cell_type": "markdown",
   "source": [
    "# Ensemble Bagging"
   ],
   "metadata": {
    "collapsed": false
   },
   "id": "9493a906a23581a"
  },
  {
   "cell_type": "code",
   "outputs": [
    {
     "name": "stdout",
     "output_type": "stream",
     "text": [
      "Ensemble Model Accuracy: 0.8823529411764706\n"
     ]
    }
   ],
   "source": [
    "from sklearn.ensemble import BaggingClassifier, VotingClassifier\n",
    "\n",
    "clf1 = KNeighborsClassifier(n_neighbors=1, metric='euclidean')\n",
    "clf2 = GaussianNB()\n",
    "clf3 = RandomForestClassifier(n_estimators=200, max_depth=20, random_state=0)\n",
    "clf4 = SVC(kernel='rbf', random_state=0)\n",
    "\n",
    "bagged_clf1 = BaggingClassifier(estimator=clf1, n_estimators=10, random_state=0)\n",
    "bagged_clf2 = BaggingClassifier(estimator=clf2, n_estimators=10, random_state=0)\n",
    "bagged_clf3 = BaggingClassifier(estimator=clf3, n_estimators=10, random_state=0)\n",
    "bagged_clf4 = BaggingClassifier(estimator=clf4, n_estimators=10, random_state=0)\n",
    "\n",
    "ensemble = VotingClassifier(estimators=[\n",
    "    ('bagged_clf1', bagged_clf1),\n",
    "    ('bagged_clf2', bagged_clf2),\n",
    "    ('bagged_clf3', bagged_clf3),\n",
    "    ('bagged_clf4', bagged_clf4)\n",
    "], voting='soft') \n",
    "\n",
    "ensemble.fit(x_train, y_train)\n",
    "y_pred = ensemble.predict(x_test)\n",
    "accuracy = accuracy_score(y_test, y_pred)\n",
    "print(f'Ensemble Model Accuracy: {accuracy}')"
   ],
   "metadata": {
    "collapsed": false,
    "ExecuteTime": {
     "end_time": "2024-06-28T19:58:40.621971800Z",
     "start_time": "2024-06-28T19:58:36.839240300Z"
    }
   },
   "id": "d0603f104631927f",
   "execution_count": 841
  }
 ],
 "metadata": {
  "kernelspec": {
   "display_name": "Python 3",
   "language": "python",
   "name": "python3"
  },
  "language_info": {
   "codemirror_mode": {
    "name": "ipython",
    "version": 2
   },
   "file_extension": ".py",
   "mimetype": "text/x-python",
   "name": "python",
   "nbconvert_exporter": "python",
   "pygments_lexer": "ipython2",
   "version": "2.7.6"
  }
 },
 "nbformat": 4,
 "nbformat_minor": 5
}
