{
 "nbformat": 4,
 "nbformat_minor": 0,
 "metadata": {
  "colab": {
   "provenance": []
  },
  "kernelspec": {
   "name": "python3",
   "display_name": "Python 3"
  },
  "language_info": {
   "name": "python"
  }
 },
 "cells": [
  {
   "cell_type": "code",
   "source": [
    "import os\n",
    "import pandas as pd\n",
    "from skimage.feature import hog, local_binary_pattern\n",
    "from skimage.io import imread\n",
    "from skimage import img_as_ubyte, transform\n",
    "import numpy as np\n",
    "import re\n",
    "\n",
    "# Function to extract HOG features\n",
    "def extract_hog_features(image):\n",
    "    # Increase pixels_per_cell and cells_per_block to reduce the number of features\n",
    "    features, hog_image = hog(image, pixels_per_cell=(32, 32), cells_per_block=(2, 2), visualize=True, multichannel=False)\n",
    "    return features\n",
    "\n",
    "# Function to extract LBP features\n",
    "def extract_lbp_features(image):\n",
    "    # Parameters for LBP\n",
    "    radius = 3\n",
    "    n_points = 8 * radius\n",
    "    lbp = local_binary_pattern(image, n_points, radius, method='uniform')\n",
    "    # Calculate the histogram of the LBP\n",
    "    lbp_hist, _ = np.histogram(lbp.ravel(), bins=np.arange(0, n_points + 3), range=(0, n_points + 2))\n",
    "    # Normalize the histogram\n",
    "    lbp_hist = lbp_hist.astype(\"float\")\n",
    "    lbp_hist /= (lbp_hist.sum() + 1e-6)\n",
    "    return lbp_hist\n",
    "\n",
    "# Function to extract both HOG and LBP features\n",
    "def extract_features(image_path):\n",
    "    # Read image using skimage\n",
    "    img = imread(image_path, as_gray=True)\n",
    "\n",
    "    # Reduce image resolution to reduce the number of HOG features\n",
    "    img_resized = transform.resize(img, (128, 128))\n",
    "\n",
    "    # Convert image to unsigned byte (0-255)\n",
    "    img_uint8 = img_as_ubyte(img_resized)\n",
    "\n",
    "    # Extract HOG features\n",
    "    hog_features = extract_hog_features(img_uint8)\n",
    "\n",
    "    # Extract LBP features\n",
    "    lbp_features = extract_lbp_features(img_uint8)\n",
    "\n",
    "    # Combine HOG and LBP features\n",
    "    combined_features = np.hstack((hog_features, lbp_features))\n",
    "\n",
    "    return combined_features\n",
    "\n",
    "# Directory containing your images\n",
    "image_dir = '/content/drive/MyDrive/All_Leaves'\n",
    "\n",
    "# Initialize lists to store features and corresponding labels\n",
    "all_features = []\n",
    "all_labels = []\n",
    "all_ex_labels = []\n",
    "pattern = r'C(\\d+)'\n",
    "pattern2 = r'(\\d+)'\n",
    "\n",
    "# Iterate over each image in the directory\n",
    "for filename in os.listdir(image_dir):\n",
    "    if filename.endswith('.JPG') or filename.endswith('.png'):  # Adjust file extensions as per your images\n",
    "        # Extract label from filename (assuming format is 'C01.jpg', 'C02.png', etc.)\n",
    "        split = filename.split('_')\n",
    "        label = split[1]\n",
    "        ex_label = split[2]\n",
    "\n",
    "        label = re.findall(pattern, label)[0]\n",
    "        label = int(label)\n",
    "\n",
    "        match = re.search(pattern2, ex_label)\n",
    "        if match:\n",
    "            ex_label = match.group(0)\n",
    "            ex_label = int(ex_label)\n",
    "\n",
    "        # Construct image path\n",
    "        image_path = os.path.join(image_dir, filename)\n",
    "\n",
    "        # Extract features\n",
    "        features = extract_features(image_path)\n",
    "\n",
    "        # Append features and label to lists\n",
    "        all_features.append(features)\n",
    "        all_labels.append(label)\n",
    "        all_ex_labels.append(ex_label)\n",
    "\n",
    "# Determine the number of features dynamically\n",
    "num_features = len(all_features[0])\n",
    "feature_columns = [f'feature_{i}' for i in range(num_features)]\n",
    "\n",
    "# Create a pandas DataFrame for features and labels\n",
    "leaf_data = pd.DataFrame(all_features, columns=feature_columns)\n",
    "leaf_data['label'] = all_labels\n",
    "leaf_data['ex_label'] = all_ex_labels\n",
    "\n",
    "# Save DataFrame to CSV\n",
    "csv_file = '/content/drive/MyDrive/leaf_hog_lbp_features.csv'\n",
    "leaf_data.to_csv(csv_file, index=False)\n",
    "\n",
    "print(f'HOG and LBP features extracted and saved to {csv_file}.')\n"
   ],
   "metadata": {
    "colab": {
     "base_uri": "https://localhost:8080/"
    },
    "id": "RDXbCipeKXVX",
    "outputId": "0b9eee79-a241-4251-a6c7-4b8c5971d320"
   },
   "execution_count": 24,
   "outputs": [
    {
     "output_type": "stream",
     "name": "stdout",
     "text": [
      "Texture features extracted and saved to /content/drive/MyDrive/leaf_texture_features.csv.\n"
     ]
    }
   ]
  },
  {
   "cell_type": "code",
   "source": [],
   "metadata": {
    "id": "MzH_k1oYK-jK"
   },
   "execution_count": null,
   "outputs": []
  }
 ]
}
